{
 "cells": [
  {
   "cell_type": "markdown",
   "metadata": {},
   "source": [
    "<!---\n",
    "Latex Macros\n",
    "-->\n",
    "$$\n",
    "\\newcommand{\\bar}{\\,|\\,}\n",
    "\\newcommand{\\Xs}{\\mathcal{X}}\n",
    "\\newcommand{\\Ys}{\\mathcal{Y}}\n",
    "\\newcommand{\\y}{\\mathbf{y}}\n",
    "\\newcommand{\\weights}{\\mathbf{w}}\n",
    "\\newcommand{\\balpha}{\\boldsymbol{\\alpha}}\n",
    "\\newcommand{\\bbeta}{\\boldsymbol{\\beta}}\n",
    "\\newcommand{\\aligns}{\\mathbf{a}}\n",
    "\\newcommand{\\align}{a}\n",
    "\\newcommand{\\source}{\\mathbf{s}}\n",
    "\\newcommand{\\target}{\\mathbf{t}}\n",
    "\\newcommand{\\ssource}{s}\n",
    "\\newcommand{\\starget}{t}\n",
    "\\newcommand{\\repr}{\\mathbf{f}}\n",
    "\\newcommand{\\repry}{\\mathbf{g}}\n",
    "\\newcommand{\\x}{\\mathbf{x}}\n",
    "\\newcommand{\\prob}{p}\n",
    "\\newcommand{\\vocab}{V}\n",
    "\\newcommand{\\params}{\\boldsymbol{\\theta}}\n",
    "\\newcommand{\\param}{\\theta}\n",
    "\\DeclareMathOperator{\\perplexity}{PP}\n",
    "\\DeclareMathOperator{\\argmax}{argmax}\n",
    "\\DeclareMathOperator{\\argmin}{argmin}\n",
    "\\newcommand{\\train}{\\mathcal{D}}\n",
    "\\newcommand{\\counts}[2]{\\#_{#1}(#2) }\n",
    "\\newcommand{\\length}[1]{\\text{length}(#1) }\n",
    "\\newcommand{\\indi}{\\mathbb{I}}\n",
    "$$"
   ]
  },
  {
   "cell_type": "markdown",
   "metadata": {},
   "source": [
    "# Assignment 3"
   ]
  },
  {
   "cell_type": "markdown",
   "metadata": {},
   "source": [
    "## Introduction\n",
    "\n",
    "In the last assignment, you will apply deep learning methods to solve a particular story understanding problem. Automatic understanding of stories is an important task in natural language understanding [[1]](http://anthology.aclweb.org/D/D13/D13-1020.pdf). Specifically, you will develop a model that given a sequence of sentences learns to sort these sentence in order to yield a coherent story [[2]](https://www.microsoft.com/en-us/research/wp-content/uploads/2016/06/short-commonsense-stories.pdf). This sounds (and to an extent is) trivial for humans, however it is a quite difficult task for machines as it involves commonsense knowledge and temporal understanding."
   ]
  },
  {
   "cell_type": "markdown",
   "metadata": {},
   "source": [
    "## Goal\n",
    "\n",
    "You are given a dataset of 45502 instances, each consisting of 5 sentences. Your system needs to ouput a sequence of numbers which represent the predicted order of these sentences. For example, given a story:\n",
    "\n",
    "    He went to the store.\n",
    "    He found a lamp he liked.\n",
    "    He bought the lamp.\n",
    "    Jan decided to get a new lamp.\n",
    "    Jan's lamp broke.\n",
    "\n",
    "your system needs to provide an answer in the following form:\n",
    "\n",
    "    2\t3\t4\t1\t0\n",
    "\n",
    "where the numbers correspond to the zero-based index of each sentence in the correctly ordered story. So \"`2`\" for \"`He went to the store.`\" means that this sentence should come 3rd in the correctly ordered target story. In This particular example, this order of indices corresponds to the following target story:\n",
    "\n",
    "    Jan's lamp broke.\n",
    "    Jan decided to get a new lamp.\n",
    "    He went to the store.\n",
    "    He found a lamp he liked.\n",
    "    He bought the lamp."
   ]
  },
  {
   "cell_type": "markdown",
   "metadata": {},
   "source": [
    "## Resources\n",
    "\n",
    "To develop your model(s), we provide a training and a development datasets. The test dataset will be held out, and we will use it to evaluate your models. The test set is coming from the same task distribution, and you don't need to expect drastic changes in it.\n",
    "\n",
    "You will use [TensorFlow](https://www.tensorflow.org/) to build a deep learning model for the task. We provide a very crude system which solves the task with a low accuracy, and a set of additional functions you will have to use to save and load the model you create so that we can run it.\n",
    "\n",
    "As we have to run the notebooks of each submission, and as deep learning models take long time to train, your notebook **NEEDS** to conform to the following requirements:\n",
    "* You **NEED** to run your parameter optimisation offline, and provide your final model saved by using the provided function\n",
    "* The maximum size of a zip file you can upload to moodle is 160MB. We will **NOT** allow submissions larger than that.\n",
    "* We do not have time to train your models from scratch! You **NEED** to provide the full code you used for the training of your model, but by all means you **CANNOT** call the training method in the notebook you will send to us.\n",
    "* We will run these notebooks automatically. If your notebook runs the training procedure, in addition to loading the model, and we need to edit your code to stop the training, you will be penalised with **-20 points**.\n",
    "* If you do not provide a pretrained model, and rely on training your model on our machines, you will get **0 points**.\n",
    "* It needs to be tested on the stat-nlp-book Docker setup to ensure that it does not have any dependencies outside of those that we provide. If your submission fails to adhere to this requirement, you will get **0 points**.\n",
    "\n",
    "Running time and memory issues:\n",
    "* We have tested a possible solution on a mid-2014 MacBook Pro, and a few epochs of the model run in less than 3min. Thus it is possible to train a model on the data in reasonable time. However, be aware that you will need to run these models many times over, for a larger number of epochs (more elaborate models, trained on much larger datasets can train for weeks! However, this shouldn't be the case here.). If you find training times too long for your development cycle you can reduce the training set size. Once you have found a good solution you can increase the size again. Caveat: model parameters tuned on a smaller dataset may not be optimal for a larger training set.\n",
    "* In addition to this, as your submission is capped by size, feel free to experiment with different model sizes, numeric values of different precisions, filtering the vocabulary size, downscaling some vectors, etc."
   ]
  },
  {
   "cell_type": "markdown",
   "metadata": {},
   "source": [
    "## Hints\n",
    "\n",
    "A non-exhaustive list of things you might want to give a try:\n",
    "- better tokenization\n",
    "- experiment with pre-trained word representations such as [word2vec](https://code.google.com/archive/p/word2vec/), or [GloVe](http://nlp.stanford.edu/projects/glove/). Be aware that these representations might take a lot of parameters in your model. Be sure you use only the words you expect in the training/dev set and account for OOV words. When saving the model parameters, pre-rained word embeddings can simply be used in the word embedding matrix of your model. As said, make sure that this word embedding matrix does not contain all of word2vec or GloVe. Your submission is limited, and we will not allow uploading nor using the whole representations set (up to 3GB!)\n",
    "- reduced sizes of word representations\n",
    "- bucketing and batching (our implementation is deliberately not a good one!)\n",
    "  - make sure to draw random batches from the data! (we do not provide this in our code!)\n",
    "- better models:\n",
    "  - stacked RNNs (see tf.nn.rnn_cell.MultiRNNCel\n",
    "  - bi-directional RNNs\n",
    "  - attention\n",
    "  - word-by-word attention\n",
    "  - conditional encoding\n",
    "  - get model inspirations from papers on nlp.stanford.edu/projects/snli/\n",
    "  - sequence-to-sequence encoder-decode architecture for producing the right ordering\n",
    "- better training procedure:\n",
    "  - different training algorithms\n",
    "  - dropout on the input and output embeddings (see tf.nn.dropout)\n",
    "  - L2 regularization (see tf.nn.l2_loss)\n",
    "  - gradient clipping (see tf.clip_by_value or tf.clip_by_norm)\n",
    "- model selection:\n",
    "  - early stopping\n",
    "- hyper-parameter optimization (e.g. random search or grid search (expensive!))\n",
    "    - initial learning rate\n",
    "    - dropout probability\n",
    "    - input and output size\n",
    "    - L2 regularization\n",
    "    - gradient clipping value\n",
    "    - batch size\n",
    "    - ...\n",
    "- post-processing\n",
    "  - for incorporating consistency constraints"
   ]
  },
  {
   "cell_type": "markdown",
   "metadata": {},
   "source": [
    "## Setup Instructions\n",
    "It is important that this file is placed in the **correct directory**. It will not run otherwise. The correct directory is\n",
    "\n",
    "    DIRECTORY_OF_YOUR_BOOK/assignments/2016/assignment3/problem/group_X/\n",
    "    \n",
    "where `DIRECTORY_OF_YOUR_BOOK` is a placeholder for the directory you downloaded the book to, and in `X` in `group_X` contains the number of your group.\n",
    "\n",
    "After you placed it there, **rename the notebook file** to `group_X`.\n",
    "\n",
    "The notebook is pre-set to save models in\n",
    "\n",
    "    DIRECTORY_OF_YOUR_BOOK/assignments/2016/assignment3/problem/group_X/model/\n",
    "\n",
    "Be sure not to tinker with that - we expect your submission to contain a `model` subdirectory with a single saved model! \n",
    "The saving procedure might overwrite the latest save, or not. Make sure you understand what it does, and upload only a single model! (for more details check tf.train.Saver)"
   ]
  },
  {
   "cell_type": "markdown",
   "metadata": {},
   "source": [
    "## General Instructions\n",
    "This notebook will be used by you to provide your solution, and by us to both assess your solution and enter your marks. It contains three types of sections:\n",
    "\n",
    "1. **Setup** Sections: these sections set up code and resources for assessment. **Do not edit, move nor copy these cells**.\n",
    "2. **Assessment** Sections: these sections are used for both evaluating the output of your code, and for markers to enter their marks. **Do not edit, move, nor copy these cells**.\n",
    "3. **Task** Sections: these sections require your solutions. They may contain stub code, and you are expected to edit this code. For free text answers simply edit the markdown field.  \n",
    "\n",
    "**If you edit, move or copy any of the setup, assessments and mark cells, you will be penalised with -20 points**.\n",
    "\n",
    "Note that you are free to **create additional notebook cells** within a task section. \n",
    "\n",
    "Please **do not share** this assignment nor the dataset publicly, by uploading it online, emailing it to friends etc."
   ]
  },
  {
   "cell_type": "markdown",
   "metadata": {},
   "source": [
    "## Submission Instructions\n",
    "\n",
    "To submit your solution:\n",
    "\n",
    "* Make sure that your solution is fully contained in this notebook. Make sure you do not use any additional files other than your saved model.\n",
    "* Make sure that your solution runs linearly from start to end (no execution hops). We will run your notebook in that order.\n",
    "* **Before you submit, make sure your submission is tested on the stat-nlp-book Docker setup to ensure that it does not have any dependencies outside of those that we provide. If your submission fails to adhere to this requirement, you will get 0 points**.\n",
    "* **If running your notebook produces a trivially fixable error that we spot, we will correct it and penalise you with -20 points. Otherwise you will get 0 points for that solution.**\n",
    "* **Rename this notebook to your `group_X`** (where `X` is the number of your group), and adhere to the directory structure requirements, if you have not already done so. ** Failure to do so will result in -1 point.**\n",
    "* Download the notebook in Jupyter via *File -> Download as -> Notebook (.ipynb)*.\n",
    "* Your submission should be a zip file containing the `group_X` directory, containing `group_X.ipynb` notebook, and the `model` directory with _____\n",
    "* Upload that file to the Moodle submission site."
   ]
  },
  {
   "cell_type": "markdown",
   "metadata": {},
   "source": [
    "## <font color='green'>Setup 1</font>: Load Libraries\n",
    "This cell loads libraries important for evaluation and assessment of your model. **Do not change, move or copy it.**"
   ]
  },
  {
   "cell_type": "code",
   "execution_count": 1,
   "metadata": {
    "ExecuteTime": {
     "end_time": "2016-12-20T12:04:56.249298",
     "start_time": "2016-12-20T12:04:54.376398"
    },
    "collapsed": false,
    "run_control": {
     "frozen": false,
     "read_only": false
    }
   },
   "outputs": [],
   "source": [
    "%%capture\n",
    "%load_ext autoreload\n",
    "%autoreload 2\n",
    "%matplotlib inline\n",
    "#! SETUP 1 - DO NOT CHANGE, MOVE NOR COPY\n",
    "import sys, os\n",
    "_snlp_book_dir = \"../../../../../\"\n",
    "sys.path.append(_snlp_book_dir)\n",
    "# docker image contains tensorflow 0.10.0rc0. We will support execution of only that version!\n",
    "import statnlpbook.nn as nn\n",
    "\n",
    "import tensorflow as tf\n",
    "import numpy as np"
   ]
  },
  {
   "cell_type": "markdown",
   "metadata": {},
   "source": [
    "## <font color='green'>Setup 2</font>: Load Training Data\n",
    "\n",
    "This cell loads the training data. **Do not edit the next cell, nor copy/duplicate it**. Instead refer to the variables in your own code, and slice and dice them as you see fit (but do not change their values). \n",
    "For example, no one stops you from introducing, in the corresponding task section, `my_train` and `my_dev` variables that split the data into different folds.   "
   ]
  },
  {
   "cell_type": "code",
   "execution_count": 2,
   "metadata": {
    "ExecuteTime": {
     "end_time": "2016-12-20T12:04:57.110195",
     "start_time": "2016-12-20T12:04:56.251082"
    },
    "collapsed": false,
    "run_control": {
     "frozen": false,
     "read_only": false
    }
   },
   "outputs": [],
   "source": [
    "#! SETUP 2 - DO NOT CHANGE, MOVE NOR COPY\n",
    "data_path = _snlp_book_dir + \"data/nn/\"\n",
    "data_train = nn.load_corpus(data_path + \"train.tsv\")\n",
    "data_dev = nn.load_corpus(data_path + \"dev.tsv\")\n",
    "assert(len(data_train) == 45502)"
   ]
  },
  {
   "cell_type": "markdown",
   "metadata": {},
   "source": [
    "### Data Structures\n",
    "\n",
    "Notice that the data is loaded from tab-separated files. The files are easy to read, and we provide the loading functions that load it into a simple data structure. Feel free to check details of the loading.\n",
    "\n",
    "The data structure at hand is an array of dictionaries, each containing a `story` and the `order` entry. `story` is a list of strings, and `order` is a list of integer indices:"
   ]
  },
  {
   "cell_type": "code",
   "execution_count": 3,
   "metadata": {
    "ExecuteTime": {
     "end_time": "2016-12-20T12:04:57.134033",
     "start_time": "2016-12-20T12:04:57.115270"
    },
    "collapsed": false,
    "run_control": {
     "frozen": false,
     "read_only": false
    }
   },
   "outputs": [
    {
     "data": {
      "text/plain": [
       "{'order': [3, 2, 1, 0, 4],\n",
       " 'story': ['His parents understood and decided to make a change.',\n",
       "  'The doctors told his parents it was unhealthy.',\n",
       "  'Dan was overweight as well.',\n",
       "  \"Dan's parents were overweight.\",\n",
       "  'They got themselves and Dan on a diet.']}"
      ]
     },
     "execution_count": 3,
     "metadata": {},
     "output_type": "execute_result"
    }
   ],
   "source": [
    "data_train[0]"
   ]
  },
  {
   "cell_type": "markdown",
   "metadata": {},
   "source": [
    "## <font color='blue'>Task 1</font>: Model implementation\n",
    "\n",
    "Your primary task in this assignment is to implement a model that produces the right order of the sentences in the dataset.\n",
    "\n",
    "### Preprocessing pipeline\n",
    "\n",
    "First, we construct a preprocessing pipeline, in our case `pipeline` function which takes care of:\n",
    "- out-of-vocabulary words\n",
    "- building a vocabulary (on the train set), and applying the same unaltered vocabulary on other sets (dev and test)\n",
    "- making sure that the length of input is the same for the train and dev/test sets (for fixed-sized models)\n",
    "\n",
    "You are free (and encouraged!) to do your own input processing function. Should you experiment with recurrent neural networks, you will find that you will need to do so."
   ]
  },
  {
   "cell_type": "code",
   "execution_count": 4,
   "metadata": {
    "collapsed": true
   },
   "outputs": [],
   "source": [
    "# Change capital letters into lower case letters\n",
    "#for i in range(len(data_train)):\n",
    "    #for j in range(5):\n",
    "        #text=data_train[i][\"story\"][j]\n",
    "        #text=text.lower()   \n",
    "        #data_train[i][\"story\"][j]=text\n",
    "#for i in range(len(data_dev)):\n",
    "    #for j in range(5):\n",
    "        #text=data_dev[i][\"story\"][j]\n",
    "        #text=text.lower()   \n",
    "        #data_dev[i][\"story\"][j]=text"
   ]
  },
  {
   "cell_type": "code",
   "execution_count": 5,
   "metadata": {
    "collapsed": true
   },
   "outputs": [],
   "source": [
    "#through away the punctuations\n",
    "for i in range(len(data_train)):\n",
    "    for j in range(5):\n",
    "        if data_train[i][\"story\"][j][-1] == '.':\n",
    "            data_train[i][\"story\"][j] = data_train[i][\"story\"][j][:-1] \n",
    "for i in range(len(data_dev)):\n",
    "    for j in range(5):\n",
    "        if data_dev[i][\"story\"][j][-1] == '.':\n",
    "            data_dev[i][\"story\"][j] = data_dev[i][\"story\"][j][:-1]"
   ]
  },
  {
   "cell_type": "code",
   "execution_count": 6,
   "metadata": {
    "ExecuteTime": {
     "end_time": "2016-12-20T12:04:59.842961",
     "start_time": "2016-12-20T12:04:57.136946"
    },
    "collapsed": false,
    "run_control": {
     "frozen": false,
     "read_only": false
    }
   },
   "outputs": [],
   "source": [
    "# convert train set to integer IDs\n",
    "train_stories, train_orders, vocab = nn.pipeline(data_train)"
   ]
  },
  {
   "cell_type": "markdown",
   "metadata": {},
   "source": [
    "You need to make sure that the `pipeline` function returns the necessary data for your computational graph feed - the required inputs in this case, as we will call this function to process your dev and test data. If you do not make sure that the same pipeline applied to the train set is applied to other datasets, your model may not work with that data!"
   ]
  },
  {
   "cell_type": "code",
   "execution_count": 9,
   "metadata": {
    "ExecuteTime": {
     "end_time": "2016-12-20T12:04:59.925263",
     "start_time": "2016-12-20T12:04:59.844598"
    },
    "collapsed": true,
    "run_control": {
     "frozen": false,
     "read_only": false
    }
   },
   "outputs": [],
   "source": [
    "# get the length of the longest sentence\n",
    "max_sent_len = train_stories.shape[2]\n",
    "\n",
    "# convert dev set to integer IDs, based on the train vocabulary and max_sent_len\n",
    "dev_stories, dev_orders, _ = nn.pipeline(data_dev, vocab=vocab, max_sent_len_=max_sent_len)"
   ]
  },
  {
   "cell_type": "markdown",
   "metadata": {},
   "source": [
    "You can take a look at the result of the `pipeline` with the `show_data_instance` function to make sure that your data loaded correctly:"
   ]
  },
  {
   "cell_type": "code",
   "execution_count": 10,
   "metadata": {
    "ExecuteTime": {
     "end_time": "2016-12-20T12:04:59.954655",
     "start_time": "2016-12-20T12:04:59.926701"
    },
    "collapsed": false,
    "run_control": {
     "frozen": false,
     "read_only": false
    }
   },
   "outputs": [
    {
     "name": "stdout",
     "output_type": "stream",
     "text": [
      "Input:\n",
      " Story:\n",
      "  The manager decided to offer John the job\n",
      "  During the interview he was very talkative and <OOV>\n",
      "  He went to the interview very prepared and nicely dressed\n",
      "  John was excited to have a job interview\n",
      "  The manager of the company was really impressed by John's comments\n",
      " Order:\n",
      "  [4 2 1 0 3]\n",
      "\n",
      "Desired story:\n",
      "  John was excited to have a job interview\n",
      "  He went to the interview very prepared and nicely dressed\n",
      "  During the interview he was very talkative and <OOV>\n",
      "  The manager of the company was really impressed by John's comments\n",
      "  The manager decided to offer John the job\n"
     ]
    }
   ],
   "source": [
    "nn.show_data_instance(dev_stories, dev_orders, vocab, 155)"
   ]
  },
  {
   "cell_type": "markdown",
   "metadata": {},
   "source": [
    "### Model\n",
    "\n",
    "The model we provide is a rudimentary, non-optimised model that essentially represents every word in a sentence with a fixed vector, sums these vectors up (per sentence) and puts a softmax at the end which aims to guess the order of sentences independently.\n",
    "\n",
    "First we define the model parameters:"
   ]
  },
  {
   "cell_type": "code",
   "execution_count": 11,
   "metadata": {
    "ExecuteTime": {
     "end_time": "2016-12-20T12:04:59.966529",
     "start_time": "2016-12-20T12:04:59.956638"
    },
    "collapsed": true,
    "run_control": {
     "frozen": false,
     "read_only": false
    }
   },
   "outputs": [],
   "source": [
    "### MODEL PARAMETERS ###\n",
    "target_size = 5\n",
    "vocab_size = len(vocab)\n",
    "input_size = 10\n",
    "# n = len(train_stories)\n",
    "output_size = 5"
   ]
  },
  {
   "cell_type": "markdown",
   "metadata": {},
   "source": [
    "and then we define the model"
   ]
  },
  {
   "cell_type": "code",
   "execution_count": 80,
   "metadata": {
    "collapsed": false
   },
   "outputs": [],
   "source": [
    "tf.reset_default_graph()"
   ]
  },
  {
   "cell_type": "code",
   "execution_count": 81,
   "metadata": {
    "ExecuteTime": {
     "end_time": "2016-12-20T12:05:00.995336",
     "start_time": "2016-12-20T12:04:59.968153"
    },
    "collapsed": false,
    "run_control": {
     "frozen": false,
     "read_only": false
    }
   },
   "outputs": [],
   "source": [
    "### MODEL ###\n",
    "\n",
    "## PLACEHOLDERS\n",
    "story = tf.placeholder(tf.int64, [None, None, None], \"story\")        # [batch_size x 5 x max_length]\n",
    "order = tf.placeholder(tf.int64, [None, None], \"order\")              # [batch_size x 5 ]"
   ]
  },
  {
   "cell_type": "code",
   "execution_count": 82,
   "metadata": {
    "collapsed": false
   },
   "outputs": [],
   "source": [
    "from tensorflow.python.ops import rnn, rnn_cell\n",
    "## Build the RNN\n",
    "n_classes = 5\n",
    "BATCH_SIZE = 32\n",
    "#Defining training epochs (iterations)\n",
    "nEpochs = 5\n",
    "#Defining the size of RNN\n",
    "rnn_size = 258\n",
    "# Word embeddings\n",
    "initializer = tf.random_uniform_initializer(-0.1, 0.1)\n",
    "embeddings = tf.get_variable(\"W\", [vocab_size, input_size], initializer=initializer)\n",
    "def Recurrent_neural_network(story):\n",
    "    global predict\n",
    "    batch_size = tf.shape(story)[0]\n",
    "    sentences = [tf.reshape(x, [batch_size, -1]) for x in tf.split(1, 5, story)]  # 5 times [batch_size x max_length]\n",
    "    sentences_embedded = [tf.nn.embedding_lookup(embeddings, sentence)   # [batch_size x max_seq_length x input_size]\n",
    "                      for sentence in sentences]\n",
    "\n",
    "    hs = [tf.reduce_sum(sentence, 1) for sentence in sentences_embedded] # 5 times [batch_size x input_size]\n",
    "\n",
    "    #Defining the sigle layer RNN\n",
    "    RNN_layer = {'weight':tf.Variable(tf.random_normal([rnn_size,n_classes])),\\\n",
    "                     'bias':tf.Variable(tf.random_normal([n_classes]))}\n",
    "\n",
    "    #5 times [batch_size x word_length]\n",
    "    basic_lstm_cell = rnn_cell.BasicLSTMCell(rnn_size,forget_bias=0.0)\n",
    "    GRU_cell = rnn_cell.GRUCell(rnn_size)\n",
    "    lstm_cell = rnn_cell.LSTMCell(rnn_size,forget_bias=0.0)\n",
    "    hierarchical_cell = rnn_cell.MultiRNNCell([lstm_cell]*2)\n",
    "\n",
    "    #stacked_lstm = rnn_cell.MultiRNNCell([basic_lstm_cell] * 2, state_is_tuple=False)\n",
    "\n",
    "    All_Outputs, All_States = rnn.rnn(lstm_cell,hs,dtype=tf.float32)\n",
    "\n",
    "    # ouput\n",
    "    Processed_output = tf.concat(1,All_Outputs)\n",
    "    Processed_output = tf.reshape(Processed_output,[batch_size,5*rnn_size])\n",
    "    #Linear-process\n",
    "    result_flat = tf.contrib.layers.linear(Processed_output, 5 * n_classes)    # [batch_size x 5*n_classes]\n",
    "    result_output = tf.reshape(result_flat, [-1, 5, n_classes])        # [batch_size x 5 x n_classes]\n",
    "\n",
    "    #Get the prediction\n",
    "    #Soft-max could not deal with matrix  --- change deal it one by one\n",
    "    unpacked_final = [tensor for tensor in tf.unpack(result_output, axis=1)]\n",
    "    softmaxes_final = [tf.nn.softmax(tensor) for tensor in unpacked_final]\n",
    "    softmaxed_final = tf.pack(softmaxes_final, axis=1)\n",
    "    predict = tf.arg_max(softmaxed_final,2)\n",
    "\n",
    "    final_output = result_output\n",
    "\n",
    "\n",
    "    return final_output"
   ]
  },
  {
   "cell_type": "markdown",
   "metadata": {},
   "source": [
    "We built our model, together with the loss and the prediction function, all we are left with now is to build an optimiser on the loss:"
   ]
  },
  {
   "cell_type": "markdown",
   "metadata": {},
   "source": [
    "### Model training \n",
    "\n",
    "We defined the preprocessing pipeline, set the model up, so we can finally train the model"
   ]
  },
  {
   "cell_type": "code",
   "execution_count": 83,
   "metadata": {
    "collapsed": false
   },
   "outputs": [],
   "source": [
    "#prediction = Recurrent_neural_network(story)"
   ]
  },
  {
   "cell_type": "code",
   "execution_count": 84,
   "metadata": {
    "collapsed": false
   },
   "outputs": [],
   "source": [
    "#print(order)\n",
    "#print(prediction)"
   ]
  },
  {
   "cell_type": "code",
   "execution_count": 85,
   "metadata": {
    "collapsed": false
   },
   "outputs": [
    {
     "name": "stdout",
     "output_type": "stream",
     "text": [
      "0 has been completed and the loss of this epoch is 6.17049649741\n",
      " Train accuracy: 0.555105270098\n",
      " Dev accuracy: 0.504649919829\n",
      "1 has been completed and the loss of this epoch is 5.40709237791\n",
      " Train accuracy: 0.603199859347\n",
      " Dev accuracy: 0.539176910743\n",
      "2 has been completed and the loss of this epoch is 5.24023405978\n",
      " Train accuracy: 0.614983956749\n",
      " Dev accuracy: 0.529877071085\n",
      "3 has been completed and the loss of this epoch is 5.14401264517\n",
      " Train accuracy: 0.62735264384\n",
      " Dev accuracy: 0.540673436665\n",
      "4 has been completed and the loss of this epoch is 5.05820906668\n",
      " Train accuracy: 0.637862071997\n",
      " Dev accuracy: 0.547942276857\n"
     ]
    }
   ],
   "source": [
    "import random\n",
    "#def train_neural_network(story,order):\n",
    "prediction = Recurrent_neural_network(story)\n",
    "\n",
    "lambda_l2=0.001\n",
    "n = train_stories.shape[0]\n",
    "loss = tf.reduce_sum(tf.nn.sparse_softmax_cross_entropy_with_logits(prediction, order) + \\\n",
    "                lambda_l2 * tf.nn.l2_loss(embeddings))\n",
    "#loss = tf.reduce_mean(tf.nn.sparse_softmax_cross_entropy_with_logits(prediction,order))\n",
    "#prediction = tf.reshape(prediction_flat, [-1, 5, target_size])  \n",
    "global train_predicted,dev_predicted\n",
    "#Defining the optisimiser\n",
    "optimiser = tf.train.AdamOptimizer().minimize(loss)\n",
    "\n",
    "#train_orders dev_orders\n",
    "with tf.Session() as sess:\n",
    "    sess.run(tf.initialize_all_variables())\n",
    "\n",
    "    #Training Session\n",
    "    for cEpoch in range(nEpochs):\n",
    "        current_Epoch_Loss = 0\n",
    "        #for each epoch we need times to perform stochastic gradient descent \n",
    "        y=random.sample(range(n),n)\n",
    "        for i in range(len(train_stories) // BATCH_SIZE):\n",
    "            inst_story = train_stories[y[i * BATCH_SIZE: (i + 1) * BATCH_SIZE]]\n",
    "            #inst_story = inst_story.tolist()\n",
    "            #inst_order = label_one_hot_train_oders[i * BATCH_SIZE: (i + 1) * BATCH_SIZE]\n",
    "            inst_order = train_orders[y[i * BATCH_SIZE: (i + 1) * BATCH_SIZE]]\n",
    "            #inst_order = inst_order.tolist()\n",
    "            _,currentloss = sess.run([optimiser,loss],feed_dict = {story: inst_story, order: inst_order})\n",
    "            current_Epoch_Loss += currentloss\n",
    "        print(cEpoch,'has been completed and the loss of this epoch is',current_Epoch_Loss/train_stories.shape[0])\n",
    "        train_feed_dict = {story: train_stories, order: train_orders}\n",
    "        train_predicted = sess.run(predict, feed_dict=train_feed_dict)\n",
    "        train_accuracy = nn.calculate_accuracy(train_orders, train_predicted)\n",
    "        print(' Train accuracy:', train_accuracy)\n",
    "\n",
    "        dev_feed_dict = {story: dev_stories, order: dev_orders}\n",
    "        dev_predicted = sess.run(predict, feed_dict=dev_feed_dict)\n",
    "        dev_accuracy = nn.calculate_accuracy(dev_orders, dev_predicted)\n",
    "        print(' Dev accuracy:', dev_accuracy)\n",
    "\n",
    "        if dev_accuracy>0.54:\n",
    "            nn.save_model(sess)"
   ]
  },
  {
   "cell_type": "code",
   "execution_count": 86,
   "metadata": {
    "collapsed": false
   },
   "outputs": [],
   "source": [
    "#train_neural_network(story,order)"
   ]
  },
  {
   "cell_type": "code",
   "execution_count": null,
   "metadata": {
    "collapsed": true
   },
   "outputs": [],
   "source": [
    "# #Alternative way:\n",
    "\n",
    "#   ## Create a dictionary which enable the sentence order to be corresponded to the status order\n",
    "# import itertools \n",
    "# combination = list(itertools.permutations([0,1,2,3,4])) \n",
    "# for i in range(5): \n",
    "#     print(combination[i], i)\n",
    "# ## Check the orders and change them into status representation\n",
    "# encoded_train_oder = []\n",
    "# for order in train_orders:\n",
    "#     for i in range(len(combination)):\n",
    "#         if np.all(order == combination[i]):\n",
    "#             encoded_train_oder.append(i)\n",
    "# ## Check the orders and change them into status representation\n",
    "# encoded_dev_oder = []\n",
    "# for order in dev_orders:\n",
    "#     for i in range(len(combination)):\n",
    "#         if np.all(order == combination[i]):\n",
    "#             encoded_dev_oder.append(i) \n",
    "    \n",
    "    \n",
    "# import random\n",
    "# story = tf.placeholder(tf.int32, [None, None, None], \"story\")        # [batch_size x 5 x max_length]\n",
    "# order = tf.placeholder(tf.int32, [None], \"order\")              # [batch_size x 5]\n",
    "# story1_len=tf.placeholder(tf.int32, [None], \"story1_len\")\n",
    "# story2_len=tf.placeholder(tf.int32, [None], \"story2_len\")  \n",
    "# story3_len=tf.placeholder(tf.int32, [None], \"story3_len\")  \n",
    "# story4_len=tf.placeholder(tf.int32, [None], \"story4_len\")  \n",
    "# story5_len=tf.placeholder(tf.int32, [None], \"story5_len\")  \n",
    "# batch_size = tf.shape(story)[0]\n",
    "\n",
    "\n",
    "# from tensorflow.python.ops import rnn, rnn_cell\n",
    "# ## Build the RNN\n",
    "# n_classes = 120\n",
    "# BATCH_SIZE = 32\n",
    "# #Defining training epochs (iterations)\n",
    "# nEpochs = 10\n",
    "# #Defining the size of RNN\n",
    "# rnn_size =120\n",
    "# # Word embeddings\n",
    "# initializer = tf.random_uniform_initializer(-0.1, 0.1)\n",
    "# embeddings = tf.get_variable(\"W\", [vocab_size, input_size], initializer=initializer)\n",
    "# n_hidden_units=50\n",
    "def Recurrent_neural_network_full_states(story):\n",
    "    global predited_endoded_order\n",
    "    batch_size = tf.shape(story)[0]\n",
    "    sentences = [tf.reshape(x, [batch_size, -1]) for x in tf.split(1, 5, story)]  # 5 times [batch_size x max_length]\n",
    "    sentences_embedded = [tf.nn.embedding_lookup(embeddings, sentence)   # [batch_size x max_seq_length x input_size]\n",
    "                      for sentence in sentences]\n",
    "\n",
    "    sentences_embedding = [sentence for sentence in sentences_embedded]\n",
    "    with tf.variable_scope(\"encoder\") as varscope:\n",
    "        lstm_cell = tf.nn.rnn_cell.LSTMCell(n_hidden_units, state_is_tuple=True)\n",
    "        _, story1_final_state =tf.nn.dynamic_rnn(lstm_cell, sentences_embedding [0],sequence_length=story1_len,dtype=tf.float32) \n",
    "        story1_h = story1_final_state.h\n",
    "        varscope.reuse_variables()\n",
    "        _, story2_final_state =tf.nn.dynamic_rnn(lstm_cell, sentences_embedding [1],sequence_length=story2_len,dtype=tf.float32) \n",
    "        story2_h = story2_final_state.h\n",
    "        varscope.reuse_variables()\n",
    "        _, story3_final_state =tf.nn.dynamic_rnn(lstm_cell, sentences_embedding [2],sequence_length=story3_len,dtype=tf.float32) \n",
    "        story3_h = story3_final_state.h\n",
    "        varscope.reuse_variables()\n",
    "        _, story4_final_state =tf.nn.dynamic_rnn(lstm_cell, sentences_embedding [3],sequence_length=story4_len,dtype=tf.float32) \n",
    "        story4_h = story4_final_state.h\n",
    "        varscope.reuse_variables()\n",
    "        _, story5_final_state =tf.nn.dynamic_rnn(lstm_cell, sentences_embedding [4],sequence_length=story5_len,dtype=tf.float32) \n",
    "        story5_h = story5_final_state.h\n",
    "    pair_representation = []\n",
    "    pair_representation.append(story1_h)\n",
    "    pair_representation.append(story2_h)\n",
    "    pair_representation.append(story3_h)\n",
    "    pair_representation.append(story4_h)\n",
    "    pair_representation.append(story5_h)\n",
    "    hs=pair_representation\n",
    "    h = tf.concat(1, hs)    # [batch_size x 5*input_size]\n",
    "    h = tf.reshape(h, [batch_size, 5,50])\n",
    "    #pair_representation = tf.convert_to_tensor(pair_representation)\n",
    "    #pair_representation=story1_h,story2_h,story3_h,story4_h,story5_h\n",
    "    #pair_representation=tf.shape(pair_representation,[batch_size,5,-1])\n",
    "    #Defining the sigle layer RNN\n",
    "    basic_lstm_cell = rnn_cell.BasicLSTMCell(rnn_size)\n",
    "    GRU_cell = tf.nn.rnn_cell.GRUCell(rnn_size)\n",
    "    lstm_cell2 = rnn_cell.LSTMCell(rnn_size)\n",
    "    hierarchical_cell = rnn_cell.MultiRNNCell([lstm_cell2]*2)\n",
    "    All_Outputs, All_States = rnn.dynamic_rnn( lstm_cell2 ,h, time_major=False,dtype=tf.float32)\n",
    "\n",
    "    ################Full state version################\n",
    "    Processed_output = tf.concat(1,All_Outputs)\n",
    "    Processed_output = tf.reshape(Processed_output,[batch_size,5*rnn_size])\n",
    "    ##############Only last output###################\n",
    "    #Processed_output = tf.concat(1,All_Outputs[:,4,:])\n",
    "    #Processed_output = tf.reshape(Processed_output,[batch_size,rnn_size])\n",
    "    # ouput\n",
    "    final_result = tf.contrib.layers.linear(Processed_output, n_classes)    # [batch_size x n_classes]\n",
    "    #final_result = tf.add(tf.matmul(All_Outputs[:,4,:],RNN_layer['weight']),RNN_layer['bias'])\n",
    "\n",
    "    unpached_probability = tf.nn.softmax(final_result) \n",
    "    predited_endoded_order = tf.arg_max(unpached_probability,1) \n",
    "\n",
    "    final_output = final_result\n",
    "\n",
    "\n",
    "    return final_output\n",
    "\n",
    "\n",
    "# import random\n",
    "def train_neural_network(story,order):\n",
    "    prediction = Recurrent_neural_network_full_states(story)\n",
    "    \n",
    "    lambda_l2=0.001\n",
    "    n = train_stories.shape[0]\n",
    "    loss = tf.reduce_sum(tf.nn.sparse_softmax_cross_entropy_with_logits(prediction, order) + \\\n",
    "                    lambda_l2 * tf.nn.l2_loss(embeddings))\n",
    "    #loss = tf.reduce_mean(tf.nn.sparse_softmax_cross_entropy_with_logits(prediction,order))\n",
    "    #prediction = tf.reshape(prediction_flat, [-1, 5, target_size]\n",
    "    #global train_predicted,dev_predicted\n",
    "    #Defining the optisimiser\n",
    "    optimiser = tf.train.AdamOptimizer().minimize(loss)\n",
    "    \n",
    "    #train_orders dev_orders\n",
    "    with tf.Session() as sess:\n",
    "        sess.run(tf.initialize_all_variables())\n",
    "\n",
    "        #Training Session\n",
    "        for cEpoch in range(nEpochs):\n",
    "            current_Epoch_Loss = 0\n",
    "            #for each epoch we need times to perform stochastic gradient descent \n",
    "            for i in range(len(train_stories) // BATCH_SIZE):\n",
    "                inst_story = train_stories[i * BATCH_SIZE: (i + 1) * BATCH_SIZE]\n",
    "                #inst_story = inst_story.tolist()\n",
    "                #inst_order = label_one_hot_train_oders[i * BATCH_SIZE: (i + 1) * BATCH_SIZE]\n",
    "                inst_order = encoded_train_oder[i * BATCH_SIZE: (i + 1) * BATCH_SIZE]\n",
    "                #inst_order = inst_order.tolist()\n",
    "                _,currentloss = sess.run([optimiser,loss],feed_dict  = {story: inst_story, order: inst_order,story1_len:stories_len[i * BATCH_SIZE: (i + 1) * BATCH_SIZE,0],\n",
    "                         story2_len:stories_len[i * BATCH_SIZE: (i + 1) * BATCH_SIZE,1],story3_len:stories_len[i * BATCH_SIZE: (i + 1) * BATCH_SIZE,2],story4_len:stories_len[i * BATCH_SIZE: (i + 1) * BATCH_SIZE,3],story5_len:stories_len[i * BATCH_SIZE: (i + 1) * BATCH_SIZE,4]})\n",
    "                current_Epoch_Loss += currentloss\n",
    "            print(cEpoch,'has been completed and the loss of this epoch is',current_Epoch_Loss/train_stories.shape[0])\n",
    "            train_feed_dict = {story: train_stories, order:encoded_train_oder,story1_len:stories_len[:,0],story2_len:stories_len[:,1],story3_len:stories_len[:,2],story4_len:stories_len[:,3],story5_len:stories_len[:,4]}\n",
    "            train_predicted_encoded = sess.run(predited_endoded_order, feed_dict=train_feed_dict)\n",
    "            train_predicted = []\n",
    "            for i in range(len(train_predicted_encoded)):\n",
    "                train_predicted.append(combination[train_predicted_encoded[i]])\n",
    "            train_accuracy = nn.calculate_accuracy(train_orders, train_predicted)\n",
    "            print(' Train accuracy:', train_accuracy)\n",
    "\n",
    "            dev_feed_dict = {story: dev_stories, order:encoded_dev_oder,story1_len:dev_stories_len[:,0],story2_len:dev_stories_len[:,1],story3_len:dev_stories_len[:,2],story4_len:dev_stories_len[:,3],story5_len:dev_stories_len[:,4]}\n",
    "            dev_predicted_encoded = sess.run(predited_endoded_order, feed_dict=dev_feed_dict)\n",
    "            dev_predicted = []\n",
    "            for i in range(len(dev_predicted_encoded)):\n",
    "                dev_predicted.append(combination[dev_predicted_encoded[i]])\n",
    "            dev_accuracy = nn.calculate_accuracy(dev_orders, dev_predicted)\n",
    "            print(' Dev accuracy:', dev_accuracy)\n",
    "\n",
    "            \n",
    "# train_neural_network(story,order)"
   ]
  },
  {
   "cell_type": "markdown",
   "metadata": {},
   "source": [
    "## <font color='red'>Assessment 1</font>: Assess Accuracy (50 pts) \n",
    "\n",
    "We assess how well your model performs on an unseen test set. We will look at the accuracy of the predicted sentence order, on sentence level, and will score them as followis:\n",
    "\n",
    "* 0 - 20 pts: 45% <= accuracy < 50%, linear\n",
    "* 20 - 40 pts: 50% <= accuracy < 55\n",
    "* 40 - 70 pts 55 <= accuracy < Best Result, linear\n",
    "\n",
    "The **linear** mapping maps any accuracy value between the lower and upper bound linearly to a score. For example, if your model's accuracy score is $acc=54.5\\%$, then your score is $20 + 20\\frac{acc-50}{55-50}$.\n",
    "\n",
    "The *Best-Result* accuracy is the maximum of the best accuracy the course organiser achieved, and the submitted accuracies scores.  "
   ]
  },
  {
   "cell_type": "markdown",
   "metadata": {
    "collapsed": true
   },
   "source": [
    "Change the following lines so that they construct the test set in the same way you constructed the dev set in the code above. We will insert the test set instead of the dev set here. **`test_feed_dict` variable must stay named the same**."
   ]
  },
  {
   "cell_type": "code",
   "execution_count": 87,
   "metadata": {
    "ExecuteTime": {
     "end_time": "2016-12-20T12:05:54.755730",
     "start_time": "2016-12-20T12:05:54.617471"
    },
    "collapsed": false,
    "run_control": {
     "frozen": false,
     "read_only": false
    }
   },
   "outputs": [],
   "source": [
    "# LOAD THE DATA\n",
    "data_test = nn.load_corpus(data_path + \"dev.tsv\")\n",
    "for i in range(len(data_test)):\n",
    "    for j in range(5):\n",
    "        if data_test[i][\"story\"][j][-1] == '.':\n",
    "            data_test[i][\"story\"][j] = data_test[i][\"story\"][j][:-1] \n",
    "\n",
    "# make sure you process this with the same pipeline as you processed your dev set\n",
    "test_stories, test_orders, _ = nn.pipeline(data_test, vocab=vocab, max_sent_len_=max_sent_len)\n",
    "\n",
    "# THIS VARIABLE MUST BE NAMED `test_feed_dict`\n",
    "test_feed_dict = {story: test_stories, order: test_orders}\n",
    "\n",
    "\n",
    "for i in range(len(data_test)):\n",
    "    for j in range(5):\n",
    "        if data_test[i][\"story\"][j][-1] == '.':\n",
    "            data_test[i][\"story\"][j] = data_test[i][\"story\"][j][:-1]"
   ]
  },
  {
   "cell_type": "markdown",
   "metadata": {},
   "source": [
    "The following code loads your model, computes accuracy, and exports the result. **DO NOT** change this code."
   ]
  },
  {
   "cell_type": "code",
   "execution_count": 88,
   "metadata": {
    "ExecuteTime": {
     "end_time": "2016-12-20T12:05:55.116609",
     "start_time": "2016-12-20T12:05:54.758571"
    },
    "collapsed": false,
    "run_control": {
     "frozen": false,
     "read_only": false
    }
   },
   "outputs": [
    {
     "data": {
      "text/plain": [
       "0.54794227685729557"
      ]
     },
     "execution_count": 88,
     "metadata": {},
     "output_type": "execute_result"
    }
   ],
   "source": [
    "#! ASSESSMENT 1 - DO NOT CHANGE, MOVE NOR COPY\n",
    "with tf.Session() as sess:\n",
    "    # LOAD THE MODEL\n",
    "    saver = tf.train.Saver()\n",
    "    saver.restore(sess, './model/model.checkpoint')\n",
    "    \n",
    "    # RUN TEST SET EVALUATION\n",
    "    dev_predicted = sess.run(predict, feed_dict=test_feed_dict)\n",
    "    dev_accuracy = nn.calculate_accuracy(dev_orders, dev_predicted)\n",
    "\n",
    "dev_accuracy"
   ]
  },
  {
   "cell_type": "markdown",
   "metadata": {},
   "source": [
    "## <font color='orange'>Mark</font>:  Your solution to Task 1 is marked with ** __ points**. \n",
    "---"
   ]
  },
  {
   "cell_type": "markdown",
   "metadata": {},
   "source": [
    "## <font color='blue'>Task 2</font>: Describe your Approach\n",
    "\n",
    "Enter a 750 words max description of your approach **in this cell**.\n",
    "Make sure to provide:\n",
    "- an **error analysis** of the types of errors your system makes\n",
    "- compare your system with the model we provide, focus on differences and draw useful comparations between them\n",
    "\n",
    "Should you need to include figures in your report, make sure they are Python-generated. For that, feel free to create new cells after this cell (before Assessment 2 cell). Link online images at your risk.\n",
    "\n",
    "\n",
    "In this assignment, our team tried to improve each step of establishing the model of ordering sentences and using different methods to improve the main model.\n",
    " \n",
    "The first step is to achieve better tokenization, our team use two methods. The first method is to transfer all upper case words into lower case, and substitute the new words into the original training set. Then, the second is to remove the punctuations in each sentences. After testing the model, the transformation of words does not contribute to a higher final result, so first one has been deleted.\n",
    " \n",
    "After processing the original data, we try to improve the word embedding. We try to use Word2vec (word to vector) to pre-train each word, and put the words into one vector with regard to similarity of the main word (one word selected as ‘main’ word in a sentence, and is used to obtain its similarities with its neighbours). Based on that idea, we can have a primary prediction subject to words. However, the result of adding Word2vec does not significantly increase the accuracy of our model. The dimension of each words vector is 10 in this situation. Generally, the dimension should be at least 50. Therefore, the bad result of adding Word2vec may be attributed to the insufficient size of dimensions. In this assignment, the size of all the samples is not enough to create the 50 dimensions words vector.\n",
    " \n",
    "After words being pre-trained, we try to use RNN (Recurrent Neural Network) model to replace the original one. The original one is a linear model, and it cannot capture the information of sentences and the relationship among sentences from a sentence group.\n",
    " \n",
    "Generally, we divide five sentences in each batch (group) into five sets, and assign indices to five sets and transformed each index into vectors. Then, put those vectors into cells to get the outputs. In this step, we use four different cells in the main model, basic LSTM, LSTM, GRU and MultiRNN(hierarchical). After comparing results of each cells, LSTM cell showed the best result. Furthermore, we use linear transformation to reshape the output, softmax to calculate the probability of each output and argmax to choose the highest probability. Finally, we can get the prediction for the sentence order. We implement this process to sentences with repeated orders to build the model.\n",
    " \n",
    "Alternatively, we tried to remove the repeated orders for the whole process. Specifically, one model we tried to use is ‘full sequence encoding’. There are totally 120 possible sequences of five sentences, as 120 is the number of combinations of how ‘0’, ‘1’, ‘2’, ‘3’, ‘4’ can be ordered into different sequences. Every sentence is 50 dimensional trained by the first RNN cell, which forms a 250-dimensional vector for five sentences. Trained after the second RNN cell, it generates five outputs (every output is 120 dimensional) and we combine them into just one output (600 dimensions) which is then trained by a linear model in order to reduce dimensions from 600 to 120. Finally, we use Softmax to get probabilities of all these possible options. The highest probability is the one that the most probable sequence order it would be.\n",
    " \n",
    "In both models, there is still a chance that one label might be decided as another label as a mistake. Furthermore, by comparing those two models, predicting the repeated orders may cause some insignificant outcomes but requires attention as well, so the second one seems more rational and rigorous. Surprisingly, the first one gave us higher accuracy. This result is probably because of a small sample size. With the increment of sample size, the results may differ. Meanwhile, if we regard the problem as a 5-classes classification problem, we could perform precision-recall analysis for the 5 classes. The result could be shown as below:\n",
    "\n",
    "|label|Precision|Recall|\n",
    "|:-----|----------------------|----------:|\n",
    "|0| 0.168|0.225|\n",
    "|1|0.166|0.223|\n",
    "|2|0.167|0.165|\n",
    "|3|0.166|0.166|\n",
    "|4|0.168|0.225|\n",
    " \n",
    "As we could see, the result is not very good. That's probably because we have both mismatching and repeatative matching problem.\n",
    "\n",
    "At the end, we try to train the model. We compare the prediction order to the real sentence order to find the prediction loss of the model.  Also, we use L2 regularization to prevent overfitting generated by the prediction process. Also, we use stochastic gradient to take samples from training set to keep the authenticity of each gradient.\n",
    "\n",
    "the comparison are shown below:\n",
    "\n",
    "\n",
    "|Model applied|Accuracy|\n",
    "|:----------------------|----------:|\n",
    "|Word to Vector + Original Model|51.3% to 51.5%|\n",
    "|Word to Vector + RNN|about 0.52|\n",
    "|RNN|about 0.55 (0.556 as optimal)|\n",
    "|RNN + Remove repition in orders|about 0.53|\n",
    "\n",
    "\n",
    "\n",
    "\n",
    "\n"
   ]
  },
  {
   "cell_type": "markdown",
   "metadata": {},
   "source": [
    "## <font color='red'>Assessment 2</font>: Assess Description (30 pts) \n",
    "\n",
    "We will mark the description along the following dimensions: \n",
    "\n",
    "* Clarity (10pts: very clear, 0pts: we can't figure out what you did, or you did nothing)\n",
    "* Creativity (10pts: we could not have come up with this, 0pts: Use only the provided model)\n",
    "* Substance (10pts: implemented complex state-of-the-art classifier, compared it to a simpler model, 0pts: Only use what is already there)"
   ]
  },
  {
   "cell_type": "markdown",
   "metadata": {},
   "source": [
    "## <font color='orange'>Mark</font>:  Your solution to Task 2 is marked with ** __ points**.\n",
    "---"
   ]
  },
  {
   "cell_type": "markdown",
   "metadata": {},
   "source": [
    "## <font color='orange'>Final mark</font>: Your solution to Assignment 3 is marked with ** __points**. "
   ]
  }
 ],
 "metadata": {
  "hide_input": false,
  "kernelspec": {
   "display_name": "Python 3",
   "language": "python",
   "name": "python3"
  },
  "language_info": {
   "codemirror_mode": {
    "name": "ipython",
    "version": 3.0
   },
   "file_extension": ".py",
   "mimetype": "text/x-python",
   "name": "python",
   "nbconvert_exporter": "python",
   "pygments_lexer": "ipython3",
   "version": "3.5.2"
  }
 },
 "nbformat": 4,
 "nbformat_minor": 0
}